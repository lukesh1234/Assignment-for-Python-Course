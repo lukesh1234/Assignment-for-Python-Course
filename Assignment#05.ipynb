{
 "cells": [
  {
   "cell_type": "code",
   "execution_count": 1,
   "metadata": {},
   "outputs": [
    {
     "name": "stdout",
     "output_type": "stream",
     "text": [
      "enter the number5\n",
      "The factorial of the number is 120\n"
     ]
    }
   ],
   "source": [
    "\"\"\"\n",
    "Lukesh kumar Assignment#05\n",
    "\"\"\"\n",
    "def ispint(a):\n",
    "    if a>0:\n",
    "        return true\n",
    "    else:\n",
    "        print(\"wrong command\")\n",
    "        return False\n",
    "def fact(b):\n",
    "    ans=1\n",
    "    for i in range(1,b+1):\n",
    "        ans*=i\n",
    "    return ans    \n",
    "\n",
    "    \n",
    "b=int(input(\"enter the number\"))\n",
    "print(\"The factorial of the number is \"+str(fact(b)))"
   ]
  },
  {
   "cell_type": "code",
   "execution_count": 3,
   "metadata": {},
   "outputs": [
    {
     "name": "stdout",
     "output_type": "stream",
     "text": [
      "enter the StringluKesh\n"
     ]
    },
    {
     "data": {
      "text/plain": [
       "'THE NUMBER OF UPPER CASE ARE 1 \\n  THE NUMBER OF LOWER CASE 5'"
      ]
     },
     "execution_count": 3,
     "metadata": {},
     "output_type": "execute_result"
    }
   ],
   "source": [
    "def check_string(a):\n",
    "    low=0\n",
    "    upp=0\n",
    "    for i in a:\n",
    "        if i==i.lower():\n",
    "            low+=1\n",
    "        if i==i.upper():\n",
    "            upp+=1\n",
    "    b=\"THE NUMBER OF UPPER CASE ARE \"+str(upp)+\" \\n \"+\" THE NUMBER OF LOWER CASE \"+ str(low)\n",
    "    return b\n",
    "a=input(\"enter the String\")\n",
    "check_string(a)"
   ]
  },
  {
   "cell_type": "code",
   "execution_count": 4,
   "metadata": {},
   "outputs": [
    {
     "name": "stdout",
     "output_type": "stream",
     "text": [
      "The even number in the list are\n",
      "2\n",
      "4\n",
      "6\n",
      "8\n"
     ]
    }
   ],
   "source": [
    "\"\"\"\n",
    "Question 3\n",
    "even number\n",
    "\"\"\"\n",
    "a=[1,2,3,4,5,6,7,8]\n",
    "def even_check(a):\n",
    "    for i in a:\n",
    "        if  i%2==0:\n",
    "            print(i)\n",
    "\n",
    "print(\"The even number in the list are\")\n",
    "even_check(a)"
   ]
  },
  {
   "cell_type": "code",
   "execution_count": 5,
   "metadata": {},
   "outputs": [
    {
     "name": "stdout",
     "output_type": "stream",
     "text": [
      "enter the word to check palindrome madam\n",
      "the word is  palindrome\n"
     ]
    }
   ],
   "source": [
    "def palin(a):\n",
    "    b=len(a)-1\n",
    "    len_of_string=len(a)\n",
    "    c=0\n",
    "    d=False\n",
    "    for i in a:\n",
    "        if i==a[b]:\n",
    "            c+=1\n",
    "        b-=1\n",
    "    if len_of_string==c:\n",
    "        d=True\n",
    "    return d    \n",
    "\n",
    "b=input(\"enter the word to check palindrome \")\n",
    "if palin(b)==True:\n",
    "    print(\"the word is  palindrome\")\n",
    "else:\n",
    "    print(\"It is not palindrome\")"
   ]
  },
  {
   "cell_type": "code",
   "execution_count": 6,
   "metadata": {},
   "outputs": [
    {
     "name": "stdout",
     "output_type": "stream",
     "text": [
      "Enter the number to check prime or not 22\n",
      "The number is not Prime\n"
     ]
    }
   ],
   "source": [
    "def check_prime(a):\n",
    "    b=True\n",
    "    if a>1:\n",
    "        for i in range(2,a//2):\n",
    "            if (a%i)==0:\n",
    "                b=False\n",
    "    else:\n",
    "        b=False\n",
    "    return b\n",
    "c=int(input(\"Enter the number to check prime or not \"))\n",
    "if check_prime(c)==True:\n",
    "    print(\"The number is Prime\")\n",
    "else:\n",
    "    print(\"The number is not Prime\")"
   ]
  },
  {
   "cell_type": "code",
   "execution_count": 7,
   "metadata": {},
   "outputs": [
    {
     "name": "stdout",
     "output_type": "stream",
     "text": [
      "Product Have Been Brought: APPLE\n",
      "Product Have Been Brought: BREAD\n",
      "Product Have Been Brought: CHICKEN\n",
      "Product Have Been Brought: EGG\n",
      "Product Have Been Brought: FISH\n",
      "Product Have Been Brought: CORN\n"
     ]
    }
   ],
   "source": [
    "def show(*item):\n",
    "    for i in item:\n",
    "        print(\"Product Have Been Brought:\",i.upper())\n",
    "show(\"apple\",\"bread\",\"chicken\",\"egg\",\"fish\",\"corn\")"
   ]
  },
  {
   "cell_type": "code",
   "execution_count": null,
   "metadata": {},
   "outputs": [],
   "source": []
  }
 ],
 "metadata": {
  "kernelspec": {
   "display_name": "Python 3",
   "language": "python",
   "name": "python3"
  },
  "language_info": {
   "codemirror_mode": {
    "name": "ipython",
    "version": 3
   },
   "file_extension": ".py",
   "mimetype": "text/x-python",
   "name": "python",
   "nbconvert_exporter": "python",
   "pygments_lexer": "ipython3",
   "version": "3.7.4"
  }
 },
 "nbformat": 4,
 "nbformat_minor": 2
}
