{
 "cells": [
  {
   "cell_type": "code",
   "execution_count": 1,
   "metadata": {},
   "outputs": [
    {
     "name": "stdout",
     "output_type": "stream",
     "text": [
      "Enter the first Number:4\n",
      "Enter the Second Number:5\n",
      "Enter the operator:**\n",
      "1024 Answer\n"
     ]
    }
   ],
   "source": [
    "a=input(\"Enter the first Number:\")\n",
    "b=input(\"Enter the Second Number:\")\n",
    "operator=input(\"Enter the operator:\")\n",
    "a=int(a)\n",
    "b=int(b)\n",
    "if operator == '+':\n",
    "    ans=a+b\n",
    "    print(ans,'Answer')\n",
    "elif operator == '-':\n",
    "    ans=a-b\n",
    "    print(ans,'Answer')\n",
    "elif operator =='*':\n",
    "    ans=a*b\n",
    "    print(ans,'Answer')\n",
    "elif operator =='/':\n",
    "    ans=a/b\n",
    "    print(ans,'Answer')\n",
    "elif operator =='**':\n",
    "    ans=a**b\n",
    "    print(ans,'Answer')\n",
    "else:\n",
    "    print(\"Entered Wrong Operator:\")\n"
   ]
  },
  {
   "cell_type": "code",
   "execution_count": 2,
   "metadata": {},
   "outputs": [
    {
     "name": "stdout",
     "output_type": "stream",
     "text": [
      "Enter the first Number:4\n",
      "Enter the Second Number:5\n",
      "Enter the operator:&\n",
      "Entered Wrong Operator:\n"
     ]
    }
   ],
   "source": [
    "a=input(\"Enter the first Number:\")\n",
    "b=input(\"Enter the Second Number:\")\n",
    "operator=input(\"Enter the operator:\")\n",
    "a=int(a)\n",
    "b=int(b)\n",
    "if operator == '+':\n",
    "    ans=a+b\n",
    "    print(ans,'Answer')\n",
    "elif operator == '-':\n",
    "    ans=a-b\n",
    "    print(ans,'Answer')\n",
    "elif operator =='*':\n",
    "    ans=a*b\n",
    "    print(ans,'Answer')\n",
    "elif operator =='/':\n",
    "    ans=a/b\n",
    "    print(ans,'Answer')\n",
    "elif operator =='**':\n",
    "    ans=a**b\n",
    "    print(ans,'Answer')\n",
    "else:\n",
    "    print(\"Entered Wrong Operator:\")"
   ]
  },
  {
   "cell_type": "code",
   "execution_count": 3,
   "metadata": {},
   "outputs": [
    {
     "name": "stdout",
     "output_type": "stream",
     "text": [
      "[1, 3, 8, 6]\n"
     ]
    }
   ],
   "source": [
    "a=[1,3,\"innovative\",8,\"Ai\",6,\"Python\"]\n",
    "b=[]\n",
    "\n",
    "for i in a:\n",
    "    if type(i)==int:\n",
    "        b.append(i)\n",
    "print(b)"
   ]
  },
  {
   "cell_type": "code",
   "execution_count": 5,
   "metadata": {},
   "outputs": [
    {
     "name": "stdout",
     "output_type": "stream",
     "text": [
      "enter the number of value you want to add4\n",
      "enter the valueali\n",
      "{0: 'ali'}\n",
      "enter the valuelukesh\n",
      "{0: 'ali', 1: 'lukesh'}\n",
      "enter the valuekumar\n",
      "{0: 'ali', 1: 'lukesh', 2: 'kumar'}\n",
      "enter the valueiot\n",
      "{0: 'ali', 1: 'lukesh', 2: 'kumar', 3: 'iot'}\n"
     ]
    }
   ],
   "source": [
    "a={}\n",
    "b=int(input(\"enter the number of value you want to add\"))\n",
    "for i in range(b):\n",
    "    c=input(\"enter the value\")\n",
    "    a[i]=c\n",
    "    print(a)"
   ]
  },
  {
   "cell_type": "code",
   "execution_count": 7,
   "metadata": {},
   "outputs": [
    {
     "name": "stdout",
     "output_type": "stream",
     "text": [
      "the sum is= 28\n"
     ]
    }
   ],
   "source": [
    "A={\n",
    "    1:2,\n",
    "    2:3,\n",
    "    3:4,\n",
    "    4:5,\n",
    "    5:6,\n",
    "    6:8,\n",
    "}\n",
    "b=0\n",
    "for i in A:\n",
    "    b+=A[i]\n",
    "print(\"the sum is= \"+str(b))"
   ]
  },
  {
   "cell_type": "code",
   "execution_count": 9,
   "metadata": {},
   "outputs": [
    {
     "data": {
      "text/plain": [
       "[1, 2, 3, 4, 5, 6, 7, 8]"
      ]
     },
     "execution_count": 9,
     "metadata": {},
     "output_type": "execute_result"
    }
   ],
   "source": [
    "a=[]\n",
    "b=[1,1,2,3,4,4,5,6,6,7,8,8]\n",
    "\n",
    "for i in b:\n",
    "    if not i in a:\n",
    "        a.append(i)\n",
    "a"
   ]
  },
  {
   "cell_type": "code",
   "execution_count": 10,
   "metadata": {},
   "outputs": [
    {
     "name": "stdout",
     "output_type": "stream",
     "text": [
      "enter the key to check3\n",
      "key is in Dictionary\n"
     ]
    }
   ],
   "source": [
    "A={\n",
    "    1:\"ALI\",\n",
    "    2:\"lukesh\",\n",
    "    3:\"Usaid\",\n",
    "    4:\"Ammad\",\n",
    "}\n",
    "b=int(input(\"enter the key to check\"))\n",
    "if not b in A:\n",
    "    print(\"key is not in Dictionary\")\n",
    "else:\n",
    "    print(\"key is in Dictionary\")"
   ]
  },
  {
   "cell_type": "code",
   "execution_count": null,
   "metadata": {},
   "outputs": [],
   "source": []
  }
 ],
 "metadata": {
  "kernelspec": {
   "display_name": "Python 3",
   "language": "python",
   "name": "python3"
  },
  "language_info": {
   "codemirror_mode": {
    "name": "ipython",
    "version": 3
   },
   "file_extension": ".py",
   "mimetype": "text/x-python",
   "name": "python",
   "nbconvert_exporter": "python",
   "pygments_lexer": "ipython3",
   "version": "3.7.4"
  }
 },
 "nbformat": 4,
 "nbformat_minor": 2
}
