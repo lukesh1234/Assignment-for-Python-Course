{
 "cells": [
  {
   "cell_type": "code",
   "execution_count": 5,
   "metadata": {},
   "outputs": [
    {
     "name": "stdout",
     "output_type": "stream",
     "text": [
      "Information related to my Friend: \n",
      "{'first_name': 'Qunber', 'last_name': 'Shah', 'Age': '20 years', 'City': 'Karachi'}\n",
      "{'first_name': 'Qunber', 'last_name': 'Shah', 'Age': '20 years', 'City': 'Karachi', 'qualification': 'engineering'}\n",
      "\n",
      "{'first_name': 'Qunber', 'last_name': 'Shah', 'Age': '20 years', 'City': 'Karachi'}\n"
     ]
    }
   ],
   "source": [
    "\"\"\"\n",
    "Question#1 \"\"\"\n",
    "\n",
    "print(\"Information related to my Friend: \")\n",
    "\n",
    "person_info={\n",
    "    \"first_name\":\"Qunber\",\n",
    "    \"last_name\":\"Shah\",\n",
    "    \"Age\":\"20 years\",\n",
    "    \"City\":\"Karachi\"\n",
    "}\n",
    "print(person_info)\n",
    "person_info[\"qualification\"]=\"engineering\"\n",
    "print(str(person_info)+\"\\n\")\n",
    "##delete\n",
    "del person_info[\"qualification\"]\n",
    "print (person_info)"
   ]
  },
  {
   "cell_type": "code",
   "execution_count": 6,
   "metadata": {},
   "outputs": [
    {
     "name": "stdout",
     "output_type": "stream",
     "text": [
      "Karachi\n",
      "{'country': 'Pakistan', 'population': '2 million', 'fact': 'City of light '}\n",
      "Multan\n",
      "{'country': 'Pakistan', 'population': '0.5 million', 'fact': 'City of saints '}\n",
      "Islamabad\n",
      "{'country': 'Pakistan', 'population': '1.3 million', 'fact': 'Capital of Pakistan '}\n"
     ]
    }
   ],
   "source": [
    "\"\"\"\n",
    "Question#2 \"\"\"\n",
    "cities={\n",
    "    \"Karachi\":{\n",
    "        \"country\":\"Pakistan\",\n",
    "        \"population\":\"2 million\",\n",
    "        \"fact\":\"City of light \"\n",
    "    },\n",
    "  \"Multan\":{\n",
    "      \n",
    "        \"country\":\"Pakistan\",\n",
    "        \"population\":\"0.5 million\",\n",
    "        \"fact\":\"City of saints \"\n",
    "      },\n",
    "\"Islamabad\":{\n",
    "    \n",
    "        \"country\":\"Pakistan\",\n",
    "        \"population\":\"1.3 million\",\n",
    "        \"fact\":\"Capital of Pakistan \"\n",
    "}\n",
    "    \n",
    "}\n",
    "for ia in  cities:\n",
    "    print(ia)\n",
    "    print(cities[ia])"
   ]
  },
  {
   "cell_type": "code",
   "execution_count": 7,
   "metadata": {},
   "outputs": [
    {
     "name": "stdout",
     "output_type": "stream",
     "text": [
      "Movie ticket System\n",
      "enter the number of family members3\n",
      "welcome! To Atrium Cinema. please write your age12\n",
      "pay $10\n",
      "welcome! To Atrium Cinema. please write your age18\n",
      "pay $15\n",
      "welcome! To Atrium Cinema. please write your age8\n",
      "pay $10\n"
     ]
    }
   ],
   "source": [
    "\"\"\"\n",
    "Question#3 \"\"\"\n",
    "print(\"Movie ticket System\")\n",
    "member=int(input(\"enter the number of family members\"))\n",
    "for i in range(0,member):\n",
    "    age=int(input(\"welcome! To Atrium Cinema. please write your age\"))\n",
    "    if age<=3:\n",
    "        print(\"there is no ticket for you go and enjoy\")\n",
    "    elif age>=3 and age<=12:\n",
    "        print(\"pay $10\")\n",
    "    elif age>12:\n",
    "        print(\"pay $15\")"
   ]
  },
  {
   "cell_type": "code",
   "execution_count": 8,
   "metadata": {},
   "outputs": [
    {
     "name": "stdout",
     "output_type": "stream",
     "text": [
      "I like this book Alice in Wonderland\n",
      "i have read this book\n",
      "One of my favorite book Alice in Wonderland\n"
     ]
    }
   ],
   "source": [
    "\"\"\"\n",
    "Question#04 \"\"\"\n",
    "def favorite_book(title):\n",
    "    print(\"I like this book \"+ title)\n",
    "    print(\"i have read this book\")\n",
    "    print(\"One of my favorite book \"+ title)\n",
    "    \n",
    "favorite_book(\"Alice in Wonderland\")"
   ]
  },
  {
   "cell_type": "code",
   "execution_count": 11,
   "metadata": {},
   "outputs": [
    {
     "name": "stdout",
     "output_type": "stream",
     "text": [
      "welcome to our Guessing Game let's start\n",
      "chance no 1\n",
      "enter the number4\n",
      "enter number is less then actual number\n",
      "chance no 2\n",
      "enter the number8\n",
      "enter number is less then actual number\n",
      "chance no 3\n",
      "enter the number12\n",
      "congratulation! you have guess right\n",
      "THE END\n"
     ]
    }
   ],
   "source": [
    "\"\"\"\n",
    "Question#05 Guessing Game\n",
    "\"\"\"\n",
    "import random\n",
    "value=random.randint(0,30)\n",
    "print(\"welcome to our Guessing Game let's start\")\n",
    "#print(value)\n",
    "for i in range(0,3):\n",
    "    print(\"chance no \"+ str(i+1))\n",
    "    number=int(input(\"enter the number\"))\n",
    "    if number <value:\n",
    "        print(\"enter number is less then actual number\")\n",
    "    elif number > value:\n",
    "        print(\"enter number is bigger then actual number\")\n",
    "    elif number==value:\n",
    "        print(\"congratulation! you have guess right\")\n",
    "        print(\"THE END\")\n",
    "        break\n",
    "if number!=value:\n",
    "    print(\"the actual number is=\"+ str(value))\n",
    "    print(\"Please Try again\")        \n",
    "    print(\"THE END\")"
   ]
  },
  {
   "cell_type": "code",
   "execution_count": null,
   "metadata": {},
   "outputs": [],
   "source": [
    "\n"
   ]
  },
  {
   "cell_type": "code",
   "execution_count": null,
   "metadata": {},
   "outputs": [],
   "source": []
  }
 ],
 "metadata": {
  "kernelspec": {
   "display_name": "Python 3",
   "language": "python",
   "name": "python3"
  },
  "language_info": {
   "codemirror_mode": {
    "name": "ipython",
    "version": 3
   },
   "file_extension": ".py",
   "mimetype": "text/x-python",
   "name": "python",
   "nbconvert_exporter": "python",
   "pygments_lexer": "ipython3",
   "version": "3.7.4"
  }
 },
 "nbformat": 4,
 "nbformat_minor": 2
}
