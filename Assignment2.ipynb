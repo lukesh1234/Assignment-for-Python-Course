{
 "cells": [
  {
   "cell_type": "code",
   "execution_count": 4,
   "metadata": {},
   "outputs": [
    {
     "name": "stdout",
     "output_type": "stream",
     "text": [
      "Enter your Subject 1 obtained marks/100: 78\n",
      "Enter your Subject 2 obtained marks/100: 67\n",
      "Enter your Subject 3 obtained marks/100: 65\n",
      "Enter your Subject 4 obtained marks/100: 56\n",
      "Enter your Subject 5 obtained marks/100: 88\n",
      "You got A grade: 70\n"
     ]
    }
   ],
   "source": [
    "s1=int(input(\"Enter your Subject 1 obtained marks/100: \"))\n",
    "s2=int(input(\"Enter your Subject 2 obtained marks/100: \"))\n",
    "s3=int(input(\"Enter your Subject 3 obtained marks/100: \"))\n",
    "s4=int(input(\"Enter your Subject 4 obtained marks/100: \"))\n",
    "s5=int(input(\"Enter your Subject 5 obtained marks/100: \"))\n",
    "avg=int((s1+s2+s3+s4+s5)/5)\n",
    "if avg>=90:\n",
    "    print(\"You got A+ grade:\",avg)\n",
    "elif avg>=70 & avg<90 :\n",
    "    print(\"You got A grade:\",avg)\n",
    "elif avg>=60 & avg<70:\n",
    "    print(\"You got B grade: \",avg)\n",
    "elif avg>=40 & avg<60:\n",
    "    print(\"You got C grade: \",avg)\n",
    "else:\n",
    "    print(\"You are Failed: \")"
   ]
  }
 ],
 "metadata": {
  "kernelspec": {
   "display_name": "Python 3",
   "language": "python",
   "name": "python3"
  }
 },
 "nbformat": 4,
 "nbformat_minor": 2
}
